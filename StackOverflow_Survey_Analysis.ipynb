{
  "nbformat": 4,
  "nbformat_minor": 0,
  "metadata": {
    "colab": {
      "name": "StackOverflow-Survey-Analysis.ipynb",
      "provenance": [],
      "collapsed_sections": [
        "DM496xOjWNZd"
      ],
      "mount_file_id": "1Xqh_Obd0xeg8yzp6U-KrVHLqiAan-Hqr",
      "authorship_tag": "ABX9TyNUNzyibXNfusC+rVjwjJOd",
      "include_colab_link": true
    },
    "kernelspec": {
      "name": "python3",
      "display_name": "Python 3"
    },
    "language_info": {
      "name": "python"
    }
  },
  "cells": [
    {
      "cell_type": "markdown",
      "metadata": {
        "id": "view-in-github",
        "colab_type": "text"
      },
      "source": [
        "<a href=\"https://colab.research.google.com/github/nazianafis/StackOverflow-Data-Analysis/blob/main/StackOverflow_Survey_Analysis.ipynb\" target=\"_parent\"><img src=\"https://colab.research.google.com/assets/colab-badge.svg\" alt=\"Open In Colab\"/></a>"
      ]
    },
    {
      "cell_type": "markdown",
      "metadata": {
        "id": "FvFRfXTSefZ4"
      },
      "source": [
        "# **Analyzing Stack Overflow Survey Data 2020**\n",
        "(Check out my related Medium blog [here.](https://nazianafis.medium.com/best-country-to-work-in-2020-15a790b00904))\n",
        "\n"
      ]
    },
    {
      "cell_type": "markdown",
      "metadata": {
        "id": "45afJcWwVF0m"
      },
      "source": [
        "In this project I will be analyzing the **Stack Overflow Annual Developer Survey 2020** data. The main survey results are in *survey_results_public.csv*, you can download it directly from Stack Overflow [here](https://insights.stackoverflow.com/survey).\n",
        "\n",
        "For this analysis I will be focusing on the following three questions:\n",
        "\n",
        "### **Questions:**\n",
        "\n",
        "1. Which country provides the highest job satisfaction for developers?\n",
        "\n",
        "2. Is there a difference in job satisfaction between developers who had an IT related undergraduate major and those who didn’t?\n",
        "\n",
        "3. Do developers from non IT backgrounds think differently about the importance of having a formal education, such as a university degree in Computer Science, for their career?\n",
        "\n",
        "\n",
        "---\n",
        "\n"
      ]
    },
    {
      "cell_type": "markdown",
      "metadata": {
        "id": "wew78nFeYJAg"
      },
      "source": [
        "### **Step 1 : Data Acquisition & Preparation**"
      ]
    },
    {
      "cell_type": "code",
      "metadata": {
        "colab": {
          "base_uri": "https://localhost:8080/"
        },
        "id": "_JZjHgWnYPp1",
        "outputId": "11bc45dd-b73b-4fd1-9813-f01ba9fc48f0"
      },
      "source": [
        "!git clone https://github.com/nazianafis/StackOverflow-Data-Analysis.git"
      ],
      "execution_count": 1,
      "outputs": [
        {
          "output_type": "stream",
          "text": [
            "Cloning into 'StackOverflow-Data-Analysis'...\n",
            "remote: Enumerating objects: 124, done.\u001b[K\n",
            "remote: Counting objects: 100% (124/124), done.\u001b[K\n",
            "remote: Compressing objects: 100% (122/122), done.\u001b[K\n",
            "remote: Total 124 (delta 62), reused 2 (delta 0), pack-reused 0\u001b[K\n",
            "Receiving objects: 100% (124/124), 8.98 MiB | 10.28 MiB/s, done.\n",
            "Resolving deltas: 100% (62/62), done.\n"
          ],
          "name": "stdout"
        }
      ]
    },
    {
      "cell_type": "code",
      "metadata": {
        "id": "AL81jGVmVTlk",
        "colab": {
          "base_uri": "https://localhost:8080/"
        },
        "outputId": "99b3afb8-44b7-479c-cc39-de609bfe10b9"
      },
      "source": [
        "# Import libraries\n",
        "import pandas as pd\n",
        "import seaborn as sns\n",
        "import matplotlib.pyplot as plt\n",
        "\n",
        "from matplotlib.colors import ListedColormap\n",
        "\n",
        "import warnings\n",
        "warnings.filterwarnings('ignore')\n",
        "\n",
        "# Load the dataset\n",
        "data = pd.read_csv('/content/StackOverflow-Data-Analysis/survey_results_public.csv')\n",
        "data.head"
      ],
      "execution_count": 2,
      "outputs": [
        {
          "output_type": "execute_result",
          "data": {
            "text/plain": [
              "<bound method NDFrame.head of        Respondent  ...      YearsCodePro\n",
              "0               1  ...                27\n",
              "1               2  ...                 4\n",
              "2               3  ...               NaN\n",
              "3               4  ...                 4\n",
              "4               5  ...                 8\n",
              "...           ...  ...               ...\n",
              "64456       64858  ...  Less than 1 year\n",
              "64457       64867  ...               NaN\n",
              "64458       64898  ...               NaN\n",
              "64459       64925  ...               NaN\n",
              "64460       65112  ...               NaN\n",
              "\n",
              "[64461 rows x 61 columns]>"
            ]
          },
          "metadata": {
            "tags": []
          },
          "execution_count": 2
        }
      ]
    },
    {
      "cell_type": "markdown",
      "metadata": {
        "id": "tEjFR6QZuIAb"
      },
      "source": [
        "The dataset contains 64461 rows and 61 columns."
      ]
    },
    {
      "cell_type": "code",
      "metadata": {
        "id": "a-iT_-JKVYlx",
        "colab": {
          "base_uri": "https://localhost:8080/"
        },
        "outputId": "6f50c8c9-08a9-47f0-9012-95f35b1c9340"
      },
      "source": [
        "# Filter data so that it only contains respondents who identify as 'developer'\n",
        "developer_data = data[data['MainBranch'] == 'I am a developer by profession']\n",
        "\n",
        "# Fill the NA values in 'JobSat' column with the mode\n",
        "developer_data['JobSat'] = developer_data['JobSat'].fillna(developer_data['JobSat'].mode()[0])\n",
        "\n",
        "# Fill the NA values in 'NEWEdImpt' column with the mode\n",
        "developer_data['NEWEdImpt'] = developer_data['NEWEdImpt'].fillna(developer_data['NEWEdImpt'].mode()[0])\n",
        "\n",
        "\n",
        "# Fill the NA values in 'ConvertedComp' column with the mean of each country\n",
        "salary_per_country = developer_data.groupby('Country')['ConvertedComp'].mean()\n",
        "developer_data['ConvertedComp'] = developer_data.fillna(lambda x: salary_per_country[x['Country']] if pd.isnull(x['ConvertedComp']) else x['ConvertedComp'], axis=1)\n",
        "developer_data = developer_data.dropna(subset=['ConvertedComp'])\n",
        "\n",
        "# Set 'JobSat' and 'NEWEdImpt' columns into categorical datatype so that they will be sorted with the right order (ordinal data)\n",
        "developer_data['JobSat'] = pd.Categorical(developer_data['JobSat'], categories=['Very dissatisfied','Slightly dissatisfied','Neither satisfied nor dissatisfied','Slightly satisfied','Very satisfied'], ordered=True)\n",
        "\n",
        "developer_data['NEWEdImpt'] = pd.Categorical(developer_data['NEWEdImpt'], categories=['Not at all important/not necessary','Somewhat important','Fairly important','Very important','Critically important'], ordered=True)\n",
        "\n",
        "developer_data.head"
      ],
      "execution_count": 3,
      "outputs": [
        {
          "output_type": "execute_result",
          "data": {
            "text/plain": [
              "<bound method NDFrame.head of        Respondent                      MainBranch  ... YearsCode      YearsCodePro\n",
              "0               1  I am a developer by profession  ...        36                27\n",
              "1               2  I am a developer by profession  ...         7                 4\n",
              "3               4  I am a developer by profession  ...         7                 4\n",
              "5               6  I am a developer by profession  ...         6                 4\n",
              "6               7  I am a developer by profession  ...         6                 4\n",
              "...           ...                             ...  ...       ...               ...\n",
              "64154       65631  I am a developer by profession  ...         5  Less than 1 year\n",
              "64155       65632  I am a developer by profession  ...       NaN               NaN\n",
              "64157       65634  I am a developer by profession  ...       NaN               NaN\n",
              "64158       65635  I am a developer by profession  ...         6  Less than 1 year\n",
              "64159       65636  I am a developer by profession  ...       NaN               NaN\n",
              "\n",
              "[47193 rows x 61 columns]>"
            ]
          },
          "metadata": {
            "tags": []
          },
          "execution_count": 3
        }
      ]
    },
    {
      "cell_type": "markdown",
      "metadata": {
        "id": "FCEI5Twg9joF"
      },
      "source": [
        "The subset only contains 47193 rows."
      ]
    },
    {
      "cell_type": "markdown",
      "metadata": {
        "id": "znpYHV1hVd0F"
      },
      "source": [
        "So far, I have done the following tasks:\n",
        "\n",
        "* I **filtered** the data so that it contains only those respondents who identify as 'developer'.\n",
        "* I set the *JobSat* and *NEWEdImpt* columns to categorical datatype.\n",
        "* Because *JobSat* and *NEWEdImpt* columns contain categorical data, I filled their empty cells with the respective **mode** values.\n",
        "* Because salaries depend on the country the developer lives in, I filled all NA values in *ConvertedComp* with the respective **mean** salary of developer's country.\n",
        "* There were still some empty values in *ConvertedComp* column since the mean *ConvertedComp* value for some countries was equal to NaN (i.e. all of the respondents from those countries hadn’t answered the salary question). So I **dropped** those records.\n",
        "\n",
        "---\n",
        "\n",
        "\n"
      ]
    },
    {
      "cell_type": "markdown",
      "metadata": {
        "id": "BZgVV3ozAL2F"
      },
      "source": [
        "### **Step 2 : Data Exploration**"
      ]
    },
    {
      "cell_type": "markdown",
      "metadata": {
        "id": "0e3amEy5AN5U"
      },
      "source": [
        "**1. Countries with the Highest Job Satisfaction Rates for Developers**"
      ]
    },
    {
      "cell_type": "code",
      "metadata": {
        "id": "0N9ORtqFVjFK"
      },
      "source": [
        "# Filter the data so that it only contains the survey result from top 20 countries based on the number of total respondents\n",
        "top_20_countries = list(developer_data['Country'].value_counts().head(20).index)\n",
        "filtered_developer_data = developer_data[developer_data['Country'].isin(top_20_countries)]\n",
        "\n",
        "# Aggregate the data so we can visualize it later\n",
        "aggregated_data = filtered_developer_data.groupby(['Country','JobSat'], as_index=False)['Respondent'].count()\n",
        "\n",
        "# Add column percentage\n",
        "total_respondents_per_country = filtered_developer_data['Country'].value_counts()\n",
        "\n",
        "aggregated_data['Respondent Percentage'] = aggregated_data.apply(lambda x: x['Respondent'] / total_respondents_per_country[x['Country']], axis=1).round(3)\n",
        "\n",
        "# Pivot the data\n",
        "aggregated_data = aggregated_data[['Country', 'JobSat', 'Respondent Percentage']]\n",
        "pivoted_data = pd.pivot_table(aggregated_data, values='Respondent Percentage', index='Country', columns='JobSat').sort_values('Very satisfied', ascending=False)"
      ],
      "execution_count": 4,
      "outputs": []
    },
    {
      "cell_type": "markdown",
      "metadata": {
        "id": "4Vb_lZmbAXj9"
      },
      "source": [
        "Because the survey contains data of respondents from more than 180 countries, I narrowed it down to the top 20 based on each country’s total number of respondents. This was desirable because now each country in the top 20 had at least 400 respondents (which was a good enough number for my analysis)."
      ]
    },
    {
      "cell_type": "code",
      "metadata": {
        "id": "1GlDTfoIVm91",
        "colab": {
          "base_uri": "https://localhost:8080/",
          "height": 465
        },
        "outputId": "f490130f-8123-4905-9181-4f153fad91af"
      },
      "source": [
        "# Visualize the data\n",
        "pivoted_data.plot(kind='bar',stacked=True,colormap=ListedColormap(sns.color_palette(\"ch:2.5,-.2,dark=.3\")),figsize=(13,5))\n",
        "plt.legend(loc=\"upper left\", bbox_to_anchor=(1,1.02))\n",
        "plt.ylabel('Satisfaction Percentages')\n",
        "plt.title('\\nJOB SATISFACTION PERCENTAGE BY COUNTRY\\n')\n",
        "plt.show()"
      ],
      "execution_count": 5,
      "outputs": [
        {
          "output_type": "display_data",
          "data": {
            "image/png": "[encoded data removed]",
            "text/plain": [
              "<Figure size 936x360 with 1 Axes>"
            ]
          },
          "metadata": {
            "tags": [],
            "needs_background": "light"
          }
        }
      ]
    },
    {
      "cell_type": "markdown",
      "metadata": {
        "id": "5IsIkK29AeO7"
      },
      "source": [
        "Analysis revealed that Sweden topped the charts, with almost 50% of the developers feeling very satisfied. United States stood second and Netherlands came in third."
      ]
    },
    {
      "cell_type": "markdown",
      "metadata": {
        "id": "3RLSt0_wAi3_"
      },
      "source": [
        "**2. Undergraduate Major and Job Satisfaction**\n"
      ]
    },
    {
      "cell_type": "code",
      "metadata": {
        "id": "ENw2eD5dVqXo",
        "colab": {
          "base_uri": "https://localhost:8080/"
        },
        "outputId": "2781fe1b-4155-45e8-bddd-286fd78baa49"
      },
      "source": [
        "# Create a new column to flag each respondent if their major is related or not\n",
        "def check_major(value):\n",
        "    '''\n",
        "    input: the value of each row in the selected column\n",
        "    output: the mapped value based on the criteria in this function\n",
        "    '''\n",
        "\n",
        "    if value == 'Computer science, computer engineering, or software engineering' or value == 'Information systems, information technology, or system administration' or value == 'Web development or web design':\n",
        "        return 'IT Related'\n",
        "    return 'Non IT Related'\n",
        "\n",
        "developer_data['Major'] = developer_data['UndergradMajor'].apply(check_major)\n",
        "\n",
        "developer_data['Major'].value_counts(normalize=True)"
      ],
      "execution_count": 6,
      "outputs": [
        {
          "output_type": "execute_result",
          "data": {
            "text/plain": [
              "IT Related        0.652067\n",
              "Non IT Related    0.347933\n",
              "Name: Major, dtype: float64"
            ]
          },
          "metadata": {
            "tags": []
          },
          "execution_count": 6
        }
      ]
    },
    {
      "cell_type": "markdown",
      "metadata": {
        "id": "Wog0F8JPAqPs"
      },
      "source": [
        "I **split** the *UndergradMajor* column into two — ‘IT Related’ and ‘non IT Related’. Majority of the developers on Stack Overflow (about 65%) had an IT related undergraduate major."
      ]
    },
    {
      "cell_type": "code",
      "metadata": {
        "id": "NFHSaVsUVqih"
      },
      "source": [
        "# Aggregate the data so that we know how many respondents are there in each type of major ('IT related' and 'non IT related')\n",
        "aggregated_data = developer_data.groupby(['Major','JobSat'], as_index=False)['Respondent'].count()\n",
        "\n",
        "# Add column percentage\n",
        "total_respondents_per_major = developer_data['Major'].value_counts()\n",
        "\n",
        "aggregated_data['Respondent Percentage'] = aggregated_data.apply(lambda x: x['Respondent'] / total_respondents_per_major[x['Major']], axis=1).round(4)\n",
        "\n",
        "# Pivot the data\n",
        "aggregated_data = aggregated_data[['Major', 'JobSat', 'Respondent Percentage']]\n",
        "pivoted_data = pd.pivot_table(aggregated_data, values='Respondent Percentage', index='Major', columns='JobSat')"
      ],
      "execution_count": 7,
      "outputs": []
    },
    {
      "cell_type": "markdown",
      "metadata": {
        "id": "MkJM6nBsAwAI"
      },
      "source": [
        "Then I calculated the percentages of each value in *JobSat* to measure job satisfaction for each type of major."
      ]
    },
    {
      "cell_type": "code",
      "metadata": {
        "id": "SinxIue2Vyt_",
        "colab": {
          "base_uri": "https://localhost:8080/",
          "height": 380
        },
        "outputId": "96649394-8851-4a3b-d0ba-0d128b5b41d3"
      },
      "source": [
        "# Visualize the data\n",
        "pivoted_data.plot(kind='barh',stacked=True,colormap=ListedColormap(sns.color_palette(\"ch:2.5,-.2,dark=.3\")),figsize=(13,5))\n",
        "plt.legend(loc=\"upper left\", bbox_to_anchor=(1,1.02))\n",
        "plt.xlabel('Satisfaction Percentages')\n",
        "plt.ylabel('Undergraduate Major')\n",
        "plt.title('\\nJOB SATISFACTION PERCENTAGE BY UNDERGRADUATE MAJOR\\n')\n",
        "plt.show()"
      ],
      "execution_count": 8,
      "outputs": [
        {
          "output_type": "display_data",
          "data": {
            "image/png": "[encoded data removed]",
            "text/plain": [
              "<Figure size 936x360 with 1 Axes>"
            ]
          },
          "metadata": {
            "tags": [],
            "needs_background": "light"
          }
        }
      ]
    },
    {
      "cell_type": "code",
      "metadata": {
        "id": "X3h7infoV2i6",
        "colab": {
          "base_uri": "https://localhost:8080/",
          "height": 143
        },
        "outputId": "276a06a3-5772-4674-dc24-b3a8e2e05aa8"
      },
      "source": [
        "pivoted_data"
      ],
      "execution_count": 9,
      "outputs": [
        {
          "output_type": "execute_result",
          "data": {
            "text/html": [
              "<div>\n",
              "<style scoped>\n",
              "    .dataframe tbody tr th:only-of-type {\n",
              "        vertical-align: middle;\n",
              "    }\n",
              "\n",
              "    .dataframe tbody tr th {\n",
              "        vertical-align: top;\n",
              "    }\n",
              "\n",
              "    .dataframe thead th {\n",
              "        text-align: right;\n",
              "    }\n",
              "</style>\n",
              "<table border=\"1\" class=\"dataframe\">\n",
              "  <thead>\n",
              "    <tr style=\"text-align: right;\">\n",
              "      <th>JobSat</th>\n",
              "      <th>Very dissatisfied</th>\n",
              "      <th>Slightly dissatisfied</th>\n",
              "      <th>Neither satisfied nor dissatisfied</th>\n",
              "      <th>Slightly satisfied</th>\n",
              "      <th>Very satisfied</th>\n",
              "    </tr>\n",
              "    <tr>\n",
              "      <th>Major</th>\n",
              "      <th></th>\n",
              "      <th></th>\n",
              "      <th></th>\n",
              "      <th></th>\n",
              "      <th></th>\n",
              "    </tr>\n",
              "  </thead>\n",
              "  <tbody>\n",
              "    <tr>\n",
              "      <th>IT Related</th>\n",
              "      <td>0.0775</td>\n",
              "      <td>0.1511</td>\n",
              "      <td>0.1262</td>\n",
              "      <td>0.2915</td>\n",
              "      <td>0.3537</td>\n",
              "    </tr>\n",
              "    <tr>\n",
              "      <th>Non IT Related</th>\n",
              "      <td>0.0585</td>\n",
              "      <td>0.1057</td>\n",
              "      <td>0.0788</td>\n",
              "      <td>0.2192</td>\n",
              "      <td>0.5378</td>\n",
              "    </tr>\n",
              "  </tbody>\n",
              "</table>\n",
              "</div>"
            ],
            "text/plain": [
              "JobSat          Very dissatisfied  ...  Very satisfied\n",
              "Major                              ...                \n",
              "IT Related                 0.0775  ...          0.3537\n",
              "Non IT Related             0.0585  ...          0.5378\n",
              "\n",
              "[2 rows x 5 columns]"
            ]
          },
          "metadata": {
            "tags": []
          },
          "execution_count": 9
        }
      ]
    },
    {
      "cell_type": "markdown",
      "metadata": {
        "id": "sd2pqlB_A5FP"
      },
      "source": [
        "I found that developers whose undergraduate major is ‘non IT related’ have better job satisfaction as compared those who have an ‘IT related’ background, with 53% and 35% respondents feeling very satisfied respectively."
      ]
    },
    {
      "cell_type": "markdown",
      "metadata": {
        "id": "3m3ESk2zA9VU"
      },
      "source": [
        "**3. Importance of Formal Education**"
      ]
    },
    {
      "cell_type": "code",
      "metadata": {
        "id": "jofJSbfZV6IN"
      },
      "source": [
        "# Aggregate the data to know the number of respondents in each type of major ('IT related' / 'Non IT related')\n",
        "aggregated_data = developer_data.groupby(['Major','NEWEdImpt'], as_index=False)['Respondent'].count()\n",
        "\n",
        "# Add column percentage\n",
        "total_respondents_per_major = developer_data['Major'].value_counts()\n",
        "\n",
        "aggregated_data['Respondent Percentage'] = aggregated_data.apply(lambda x: x['Respondent'] / total_respondents_per_major[x['Major']], axis=1).round(4)\n",
        "\n",
        "# Pivot the data\n",
        "aggregated_data = aggregated_data[['Major', 'NEWEdImpt', 'Respondent Percentage']]\n",
        "pivoted_data = pd.pivot_table(aggregated_data, values='Respondent Percentage', index='Major', columns='NEWEdImpt')"
      ],
      "execution_count": 10,
      "outputs": []
    },
    {
      "cell_type": "code",
      "metadata": {
        "id": "3AxbYY0-WE-P",
        "colab": {
          "base_uri": "https://localhost:8080/",
          "height": 380
        },
        "outputId": "53db1cde-fa81-4ba8-cf38-2f4293fc4c44"
      },
      "source": [
        "# Visualize the data\n",
        "pivoted_data.plot(kind='barh',stacked=True,colormap=ListedColormap(sns.color_palette(\"ch:2.5,-.2,dark=.3\")),figsize=(13,5))\n",
        "plt.legend(loc=\"upper left\", bbox_to_anchor=(1,1.02))\n",
        "plt.xlabel('Answer to \"Is formal education important?\"')\n",
        "plt.ylabel('Undergraduate Major')\n",
        "plt.title('\\nIMPORTANCE OF FORMAL EDUCATION BY UNDERGRADUATE MAJOR\\n')\n",
        "plt.show()\n"
      ],
      "execution_count": 11,
      "outputs": [
        {
          "output_type": "display_data",
          "data": {
            "image/png": "[encoded data removed]",
            "text/plain": [
              "<Figure size 936x360 with 1 Axes>"
            ]
          },
          "metadata": {
            "tags": [],
            "needs_background": "light"
          }
        }
      ]
    },
    {
      "cell_type": "markdown",
      "metadata": {
        "id": "N2SZZNShWLCE"
      },
      "source": [
        "Analysis revealed that developers with IT related backgrounds agreed more with the importance of having a formal education, such as a university degree in Computer Science, for their career. The opposite was true for non IT background developers."
      ]
    },
    {
      "cell_type": "markdown",
      "metadata": {
        "id": "DM496xOjWNZd"
      },
      "source": [
        "\n",
        "\n",
        "---\n",
        "\n",
        "\n",
        "### **Conclusion**\n",
        "\n",
        "Here is a quick summary of my analysis of the Stack Overflow Annual Developer Survey 2020 data:\n",
        "\n",
        "1.     I measured job satisfaction levels for each country and found that Sweden topped the charts. United States stood second and Netherlands came in third.\n",
        "2. I looked at undergraduate majors and found that developers from non IT backgrounds had better job satisfaction.\n",
        "3. I found that developers from non IT fields believed that having a formal education was not as important for their career. Their belief was backed up by the fact that despite not having a background in IT, these respondents were not only working as developers but also had higher job satisfaction.\n",
        "\n",
        "\n",
        "---"
      ]
    }
  ]
}